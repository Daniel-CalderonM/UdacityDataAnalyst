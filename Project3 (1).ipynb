{
 "cells": [
  {
   "cell_type": "markdown",
   "metadata": {},
   "source": [
    "# Titanic Data Analysis"
   ]
  },
  {
   "cell_type": "markdown",
   "metadata": {},
   "source": [
    "Questions:\n",
    "1)Did gender play a role in survivability rate?\n",
    "2)Did passenger class affect survival rate?"
   ]
  },
  {
   "cell_type": "markdown",
   "metadata": {},
   "source": [
    "## Data Wrangling Process"
   ]
  },
  {
   "cell_type": "code",
   "execution_count": 108,
   "metadata": {
    "collapsed": false
   },
   "outputs": [],
   "source": [
    "#1\n",
    "import pandas as pd\n",
    "import matplotlib.pyplot as plt\n",
    "import numpy as np\n",
    "import scipy.stats as sp\n",
    "import seaborn as se\n",
    "data = pd.read_csv('titanic-data.csv')\n",
    "#Data Wrangling\n",
    "age_no_null = data[data['Age'].notnull()]\n",
    "del data['Cabin']\n",
    "del data['Name']\n",
    "del data['Ticket']\n",
    "#Will later be used to graph\n",
    "def graph(data, type_graph):\n",
    "    data.plot(type_graph)\n",
    "#Deleting for this data is warranted on the assumption that name cabin and ticket did not play a role in survavivability\n",
    "#moving the survivor data to another varible and the same for the amount of deaths\n",
    "data_survivor =data[data['Survived']== 1]\n",
    "data_deaths = data[data['Survived']== 0]\n",
    "#Female Survivors/Deaths\n",
    "data_survivor_female = data[data['Survived' ] == 1]\n",
    "data_survivor_female = data_survivor_female[data_survivor_female['Sex'] == 'female']\n",
    "#Death\n",
    "data_death_female = data[data['Survived'] == 0]\n",
    "data_death_female = data_death_female[data_death_female['Sex'] == 'female']\n",
    "#Male Survivors/Death\n",
    "data_survivor_male = data[data['Survived'] == 1]\n",
    "data_survivor_male = data_survivor_male[data_survivor_male['Sex'] == 'male']\n",
    "#Death\n",
    "data_death_male = data[(data['Survived'] == 0) & (data['Sex'] == 'male')]\n",
    "#Total size of population both male and female\n",
    "gender_size = len(data['Sex'])\n",
    "#Number of total males in the data set\n",
    "male_count = len(data[data['Sex']== 'male'])\n",
    "#Number of total females in data set\n",
    "female_count = len(data[data['Sex'] == 'female'])\n",
    "#Number of males that survived the accident\n",
    "male_survive_count = len(data_survivor[data_survivor['Sex'] == 'male'])\n",
    "#number of females that survived the accident\n",
    "female_survive_count =len(data_survivor[data_survivor['Sex'] == 'female'])\n",
    "#Number of first class survivors/deaths Male\n",
    "male_survivors_class1_count = len(data_survivor_male[data_survivor_male['Pclass'] == 1])\n",
    "male_death_class1_count = len(data_death_male[data_death_male['Pclass'] == 1])\n",
    "#Number of second class survivors Male\n",
    "male_survivors_class2_count = len(data_survivor_male[data_survivor_male['Pclass'] == 2])\n",
    "male_death_class2_count = len(data_death_male[data_death_male['Pclass'] == 2])\n",
    "#Number of thrid class survivors Male\n",
    "male_survivors_class3_count = len(data_survivor_male[data_survivor_male['Pclass'] == 3])\n",
    "male_death_class3_count = len(data_death_male[data_death_male['Pclass'] == 3])\n",
    "#Number of first class survivors Female\n",
    "female_survivors_class1_count = len(data_survivor_female[data_survivor_female['Pclass'] == 1])\n",
    "female_death_class1_count = len(data_death_female[data_death_female['Pclass'] == 1])\n",
    "#Number of second class survivors Female\n",
    "female_survivors_class2_count = len(data_survivor_female[data_survivor_female['Pclass'] == 2])\n",
    "female_death_class2_count = len(data_death_female[data_death_female['Pclass'] == 2])\n",
    "#Number of thrid class survivors Female\n",
    "female_survivors_class3_count = len(data_survivor_female[data_survivor_female['Pclass'] == 3])\n",
    "female_death_class3_count = len(data_death_female[data_death_female['Pclass'] == 3])\n",
    "#Follwing steps are done to get correct age data\n",
    "bool_null_age = pd.isnull(data['Age'])\n",
    "missing_female_age = (data[bool_null_age]['Sex']) == 'female'\n",
    "missing_male_age = data[bool_null_age]['Sex'] == 'male'\n",
    "#Number of survivors by class disregrad genders\n",
    "#Class 1\n",
    "survivors_class1_count = len(data_survivor[data_survivor['Pclass'] == 1])\n",
    "death_class1_count = len(data_deaths[data_deaths['Pclass'] == 1])\n",
    "#Class 2\n",
    "survivors_class2_count = len(data_survivor[data_survivor['Pclass'] == 2])\n",
    "death_class2_count = len(data_deaths[data_deaths['Pclass'] == 2])\n",
    "#Class 3\n",
    "survivors_class3_count = len(data_survivor[data_survivor['Pclass'] == 3])\n",
    "death_class3_count = len(data_deaths[data_deaths['Pclass'] == 3])"
   ]
  },
  {
   "cell_type": "markdown",
   "metadata": {},
   "source": [
    "After going through the data I felt that cabin,name, and ticket number were not useful cells in our data. As such, I decided to delete them from the data set as to seed up the process that is taken to go through the data. My justification for deleting the cabin cell is that a lot of the rows were missing information which would have led to a misguided assumption if I had used cabin as a factor in survivability. Furthermore, name did not have anything to do wiht the survivability of a person. If we ere to identify the person we could use passenger id. In addition, I decided to delete the ticket number column for the reason that it was not really needed. If we werre to identify in what class a person was we could the Pclass cell."
   ]
  },
  {
   "cell_type": "markdown",
   "metadata": {},
   "source": [
    "# Age Factor In Surviving"
   ]
  },
  {
   "cell_type": "code",
   "execution_count": 109,
   "metadata": {
    "collapsed": false
   },
   "outputs": [
    {
     "name": "stdout",
     "output_type": "stream",
     "text": [
      "Total number of survivors 288 \n",
      "Total number of deaths 424 \n",
      "Average age of survivors 28.0 \n",
      "Average age of deaths 31.0 \n",
      "Oldest to survive 80.0 \n",
      "Oldest to die 74.0\n"
     ]
    },
    {
     "data": {
      "text/plain": [
       "<seaborn.axisgrid.FacetGrid at 0x126a0898>"
      ]
     },
     "execution_count": 109,
     "metadata": {},
     "output_type": "execute_result"
    },
    {
     "data": {
      "image/png": "[encoded data removed]",
      "text/plain": [
       "<matplotlib.figure.Figure at 0x126a0940>"
      ]
     },
     "metadata": {},
     "output_type": "display_data"
    }
   ],
   "source": [
    "#Get youngest and oldest survivor and death\n",
    "young_survive = data[data['Survived'] == 1]['Age'].min()\n",
    "young_dead = data[data['Survived'] == 0]['Age'].min()\n",
    "oldest_dead = data[data['Survived'] == 0]['Age'].max()\n",
    "oldest_survive = data[data['Survived'] == 1]['Age'].max()\n",
    "#Drops the NaN values\n",
    "data = data.dropna()\n",
    "count_survived = data[data['Survived'] == 1]['Survived'].count()\n",
    "count_dead = data[data['Survived'] == 0]['Survived'].count()\n",
    "#Age average for survivors and deaths\n",
    "mean_age_survive = data[data['Survived'] == 1]['Age'].mean()\n",
    "mean_age_dead = data[data['Survived'] == 0]['Age'].mean()\n",
    "print 'Total number of survivors {} \\n\\\n",
    "Total number of deaths {} \\n\\\n",
    "Average age of survivors {} \\n\\\n",
    "Average age of deaths {} \\n\\\n",
    "Oldest to survive {} \\n\\\n",
    "Oldest to die {}' \\\n",
    ".format(count_survived, count_dead, np.round(mean_age_survive), \n",
    "        np.round(mean_age_dead), oldest_survive, oldest_dead)\n",
    "box = se.factorplot(x='Survived',y = 'Age', hue = 'Sex',data=data, kind=\"box\", size=7, aspect=.8)\n",
    "box.set_axis_labels('Suvivors', 'Age of Passengers')\\\n",
    "    .set_xticklabels([\"Died\", \"Survived\"])"
   ]
  },
  {
   "cell_type": "markdown",
   "metadata": {},
   "source": [
    "After reviewing the data that was given to me through the box plot, I can come to two conclusion. One, survivability of a passenger regarding age, proved no correlation. Second, average age for those that died was similar to average age of those that survived."
   ]
  },
  {
   "cell_type": "markdown",
   "metadata": {
    "collapsed": true
   },
   "source": [
    "## Graph of Survivors By Class"
   ]
  },
  {
   "cell_type": "code",
   "execution_count": 110,
   "metadata": {
    "collapsed": false,
    "scrolled": false
   },
   "outputs": [
    {
     "name": "stdout",
     "output_type": "stream",
     "text": [
      "Populating the interactive namespace from numpy and matplotlib\n",
      "Percentage of first class survivors is: 39.7660818713 %\n",
      "Percentage of second class survivors is: 25.4385964912 %\n",
      "Percentage of thirs class survivors is: 34.7953216374 %\n"
     ]
    },
    {
     "data": {
      "image/png": "[encoded data removed]",
      "text/plain": [
       "<matplotlib.figure.Figure at 0x11fd6240>"
      ]
     },
     "metadata": {},
     "output_type": "display_data"
    }
   ],
   "source": [
    "%pylab inline\n",
    "def graph_special(data, type_graph):\n",
    "    data.plot(type_graph,legend = True,label = 'Y-Axis = Count')\n",
    "graph_special(pd.Series([survivors_class1_count,death_class1_count,survivors_class2_count,\\\n",
    "                 death_class2_count,survivors_class3_count,death_class3_count],index = ['surv_1C','death_1C',\\\n",
    "                                                                                       'surv_2C','death_2C',\\\n",
    "                                                                                       'surv_3C','death_3C'],\\\n",
    "                                                                                        ),'bar')\n",
    "print \"Percentage of first class survivors is:\", ((float(survivors_class1_count)/len(data_survivor))*100),'%'\n",
    "print \"Percentage of second class survivors is:\", ((float(survivors_class2_count)/len(data_survivor))*100),'%'\n",
    "print \"Percentage of thirs class survivors is:\", ((float(survivors_class3_count)/len(data_survivor))*100),'%'"
   ]
  },
  {
   "cell_type": "markdown",
   "metadata": {},
   "source": [
    "## Observations\n"
   ]
  },
  {
   "cell_type": "markdown",
   "metadata": {},
   "source": [
    "At first galnce it does not seem to clearly tell us if there is a correlation between passenger class and survivability rate. As such, we have to perform a chi-test to figure out if there is a correlation. Our degress of freedom will be 2. Our Null Hypothesis H0 = Pclass and survivability are independent. Our Alternative hypothesis is HA= Pclass and survivability are not independent. After running our test we notice that the p value is below .05. As such, we reject the null hypothesis . It is statistically safe to say that passenger class plays a role in the survivability of males on the titanic."
   ]
  },
  {
   "cell_type": "code",
   "execution_count": 111,
   "metadata": {
    "collapsed": false
   },
   "outputs": [
    {
     "name": "stdout",
     "output_type": "stream",
     "text": [
      "p-value:  4.5492517113e-23\n"
     ]
    }
   ],
   "source": [
    "data_array = np.array([[80, 97, 372], [136, 87, 119]])\n",
    "chi2, p, dof, ex = sp.chi2_contingency(data_array, correction=False)\n",
    "print \"p-value: \", p"
   ]
  },
  {
   "cell_type": "markdown",
   "metadata": {},
   "source": [
    "# Graph Survivability by males\n"
   ]
  },
  {
   "cell_type": "code",
   "execution_count": 112,
   "metadata": {
    "collapsed": false
   },
   "outputs": [
    {
     "data": {
      "image/png": "[encoded data removed]",
      "text/plain": [
       "<matplotlib.figure.Figure at 0x12f070b8>"
      ]
     },
     "metadata": {},
     "output_type": "display_data"
    }
   ],
   "source": [
    "graph(pd.Series([len(data_survivor_male),len(data_death_male)],index = ['Male Survivors','Male Deaths'],name ='Males'),'pie')"
   ]
  },
  {
   "cell_type": "markdown",
   "metadata": {},
   "source": [
    "## Observations"
   ]
  },
  {
   "cell_type": "code",
   "execution_count": 113,
   "metadata": {
    "collapsed": false
   },
   "outputs": [
    {
     "name": "stdout",
     "output_type": "stream",
     "text": [
      "Percentage of male survivors is:  18.8908145581\n"
     ]
    }
   ],
   "source": [
    "print 'Percentage of male survivors is: ', len(data_survivor_male)/float(len(data_survivor_male)+len(data_death_male))*100"
   ]
  },
  {
   "cell_type": "markdown",
   "metadata": {},
   "source": [
    "# Graph Survivability by females"
   ]
  },
  {
   "cell_type": "code",
   "execution_count": 114,
   "metadata": {
    "collapsed": false
   },
   "outputs": [
    {
     "data": {
      "image/png": "[encoded data removed]",
      "text/plain": [
       "<matplotlib.figure.Figure at 0x12c70160>"
      ]
     },
     "metadata": {},
     "output_type": "display_data"
    }
   ],
   "source": [
    "graph(pd.Series([len(data_survivor_female),len(data_death_female)],index = ['Female Survivors','Female Deaths'],name ='Females'),'pie')"
   ]
  },
  {
   "cell_type": "code",
   "execution_count": 115,
   "metadata": {
    "collapsed": false
   },
   "outputs": [
    {
     "name": "stdout",
     "output_type": "stream",
     "text": [
      "Percentage of Female survivors is:  74.2038216561\n"
     ]
    }
   ],
   "source": [
    "print 'Percentage of Female survivors is: ', len(data_survivor_female)/float(len(data_survivor_female)+len(data_death_female))*100"
   ]
  },
  {
   "cell_type": "markdown",
   "metadata": {},
   "source": [
    "## Observations\n"
   ]
  },
  {
   "cell_type": "markdown",
   "metadata": {},
   "source": [
    "To see if there is any correlation between the two factors I will use a difference in proportions test wiht a significance level of .05. prop1 will be proportion of male survivors. prop2 will be the proportion of female survivors\n",
    "My null hypothesis is H0= p1 = p2. My alternative hypothesis HA = p1 != p2"
   ]
  },
  {
   "cell_type": "code",
   "execution_count": 116,
   "metadata": {
    "collapsed": false
   },
   "outputs": [
    {
     "name": "stdout",
     "output_type": "stream",
     "text": [
      "p =  0.383838383839\n",
      "Standard error:  0.0341068875758\n",
      "Z-score:  -16.2208231959\n"
     ]
    }
   ],
   "source": [
    "p = (0.188908145581 * 577 + 0.742038216561 * 314) / (314 + 577)\n",
    "standard_error = sqrt( 0.384 * (1-0.384) * ((1/577.0) + (1/314.0)) )\n",
    "z = (0.188908145581 - 0.742038216561) / 0.0341\n",
    "print 'p = ', p\n",
    "print 'Standard error: ',standard_error\n",
    "print 'Z-score: ', z"
   ]
  },
  {
   "cell_type": "markdown",
   "metadata": {},
   "source": [
    "Since -16.2 < -1.96 we can go ahead and reject the Null Hypothesis.As such, we safely delcare that beign a female increased your likelyhood of survival"
   ]
  },
  {
   "cell_type": "code",
   "execution_count": 117,
   "metadata": {
    "collapsed": false
   },
   "outputs": [
    {
     "name": "stdout",
     "output_type": "stream",
     "text": [
      "***********************Males*****************************************************\n",
      "Number of first class males 122\n",
      "Number of first class male survivors 45\n",
      "Number of second class males 108\n",
      "Number of second class male survivors 17\n",
      "Number of third class males 347\n",
      "Number of third class male survivors 47\n",
      "***********************Females*****************************************************\n",
      "Number of first class females 94\n",
      "Number of first class female survivors 91\n",
      "Number of second class females 76\n",
      "Number of second class female survivors 70\n",
      "Number of third class females 144\n",
      "Number of third class female survivors 72\n"
     ]
    }
   ],
   "source": [
    "print '***********************Males*****************************************************'\n",
    "print \"Number of first class males\",(male_survivors_class1_count+male_death_class1_count)\n",
    "print \"Number of first class male survivors\",male_survivors_class1_count\n",
    "print \"Number of second class males\",(male_survivors_class2_count+male_death_class2_count)\n",
    "print \"Number of second class male survivors\",male_survivors_class2_count\n",
    "print \"Number of third class males\",(male_survivors_class3_count+male_death_class3_count)\n",
    "print \"Number of third class male survivors\",male_survivors_class3_count\n",
    "print '***********************Females*****************************************************'\n",
    "print \"Number of first class females\",(female_survivors_class1_count+female_death_class1_count)\n",
    "print \"Number of first class female survivors\",female_survivors_class1_count\n",
    "print \"Number of second class females\",(female_survivors_class2_count+female_death_class2_count)\n",
    "print \"Number of second class female survivors\",female_survivors_class2_count\n",
    "print \"Number of third class females\",(female_survivors_class3_count+female_death_class3_count)\n",
    "print \"Number of third class female survivors\",female_survivors_class3_count"
   ]
  },
  {
   "cell_type": "markdown",
   "metadata": {},
   "source": [
    "As one can see there is a clear distinction of the rate of survival in the different classes. First class, in terms of proportions, had a higher likelyhood of making it out alive, followed by second class then third class. Furthremore, its can also bee senn that if you were a women, you had a better chance of making it out alive. At least halve of the women in each of hte classes made it out alive. The survivability of classes can be attributed ot the location of the living quarters for each class. First class resided near the middle of the boat and in upper levels, while second class below them and more to teh sides and finally third class all the way at the ends of the boat. The location of each class allowed the other to have an advantage of getting to exists and being able to escape."
   ]
  },
  {
   "cell_type": "markdown",
   "metadata": {},
   "source": [
    "# Conclusion"
   ]
  },
  {
   "cell_type": "markdown",
   "metadata": {},
   "source": [
    "Throughout the project I enjoyed learning how ot manipulate data and how to use pandas to graph them. One finding that I found interesting was the difference  in survaivability rate of males and females. I knew that more females had survived, but I did not know that the difference was so great. Furthermore, unlike the difference of survaivability of socieconomic status of males, females did not expericen this issus so greatly. Some limitations to our study could be that from the data tha was pulled,179 of the rows of data were missing the column that had to deal with age. For this reason I chose not to explore if age and survivability had anything in common. In addition, theres is statistical evidence that gender and class play a role in the survivability of a person. The difference of passengers that made it out alive could be attributed to the fact that thirs class passengers were not usually allowed at the upper decks, unlike first class passengers. This could have led to third class passengers beigng confused as to where they should go. Also, during this time, the phrase \"women and children\" was something that people took to heart. This could explain why a lot of women made it out compared to men."
   ]
  }
 ],
 "metadata": {
  "anaconda-cloud": {
   "attach-environment": true,
   "url": "https://anaconda.org/daniel_calderon/project3"
  },
  "kernelspec": {
   "display_name": "Python [default]",
   "language": "python",
   "name": "python2"
  },
  "language_info": {
   "codemirror_mode": {
    "name": "ipython",
    "version": 2
   },
   "file_extension": ".py",
   "mimetype": "text/x-python",
   "name": "python",
   "nbconvert_exporter": "python",
   "pygments_lexer": "ipython2",
   "version": "2.7.12"
  }
 },
 "nbformat": 4,
 "nbformat_minor": 1
}
